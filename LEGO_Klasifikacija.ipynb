{
  "nbformat": 4,
  "nbformat_minor": 0,
  "metadata": {
    "colab": {
      "provenance": [],
      "authorship_tag": "ABX9TyOg+5Q0pbXZyHBQ2vUAj8li",
      "include_colab_link": true
    },
    "kernelspec": {
      "name": "python3",
      "display_name": "Python 3"
    },
    "language_info": {
      "name": "python"
    }
  },
  "cells": [
    {
      "cell_type": "markdown",
      "metadata": {
        "id": "view-in-github",
        "colab_type": "text"
      },
      "source": [
        "<a href=\"https://colab.research.google.com/github/milospejic/PPPO-IT30-2020/blob/main/LEGO_Klasifikacija.ipynb\" target=\"_parent\"><img src=\"https://colab.research.google.com/assets/colab-badge.svg\" alt=\"Open In Colab\"/></a>"
      ]
    },
    {
      "cell_type": "markdown",
      "source": [
        "# **Uvod**\n",
        "Namena ovog rada je klasifikacija slika iz dodeljenog dataset-a za potrebe projekta iz predmeta Principi prezentacije i prepoznavanja oblika.<br> Klasifikacija, kao vrsta nadgledanog učenja biće tema prvog poglavlja, dok je u sledećem poglavlju posebno objašnjena klasifikacija slika.<br>\n",
        "Nakon toga, u trećem poglavlju biće govora o sadržaju dataset-a. Četvro poglavlje predstavlja praktični deo ovog projekta. U petom poglalju dat je zaključak autora ovog rada.<br>\n",
        "Na samom kraju rada odrađen je i osvrt na literaturu koja je korištena pri izradi teorijiskog dela rada.\n",
        "\n",
        "\n",
        "\n",
        "\n"
      ],
      "metadata": {
        "id": "H758yQtHg__5"
      }
    },
    {
      "cell_type": "markdown",
      "source": [
        "# **Klasifikacija**\n",
        "Mašinsko učenje predstavlja široko, međudisciplinarno polje, koje je izgrađeno na konceptima iz računarstva, statistike, inženjerstva, kognitivine nauke,teorije optimizacije i drugih oblasti matematatike i nauke. Postoje dve vrste mašinskog učenja:\n",
        "1.   Nenadgledano mašinsko učenje\n",
        "2.   Nadgledano mašinsko učenje\n",
        "\n",
        "Kod nenadgledano učenja izvlače se zaključci iz skupova podataka koji se sastoje od ulaznih podataka bez označenih odgovora, ili drugim rečima, u nenadgledanom učenju željeni izlaz nije unapred definisan. Ovo znači da algoritam samostalno istražuje podatke i identifikuje obrasce ili odnose među podacima bez prethodno poznatih ciljnih vrednosti.<br>\n",
        "Kod tehnika nadgledanog učenja koriste se označeni podaci i pokušava se pronaći odnos između ulaznih podataka(nezavisne promenljive) i izlaznih podataka(zavisne promenljive).<br>\n",
        "U domenu mašinskog učenja, klasifikacija predstavlja koncept nadgledanog učenja koje se bavi podelom setova podataka u klase, odnosno služi za predviđanje kojim klasam će pripadatai određene instance podataka. Klasifikacija se vrši tako što se na osnovu jednog dela skupa podataka obučava model koji će vršiti klasifikaciju, i te podatke nazivamo skupom podataka za trening(engl. *training* *set*). Ostatak podataka se koristi za testiranje modela, ove podatke nazivamo setom podataka za trening( engl. *test* *set*).\n",
        "<br>\n",
        "Neki od najpoznatijih problema kojima se bavi klasifikacija jesu:\n",
        "  *   Prepoznavnje glasa\n",
        "  *   Detekcija lica\n",
        "  *   Prepoznavaje rukopisa\n",
        "  *   Klasifikacija slika\n",
        "\n",
        "Iako su tehnike klasifikacije veoma popularne među istraživačima oni se i dalje susreću sa problemima, kao što su na primer, irelevantni ili nedostajući podaci.\n",
        "<br>\n",
        "Najpoznatiji algoritmi i metode koje se koriste za klasifikaciju jesu naivna-bajseovska klasifikacija, bajesovske mreže, logistička regresija, metoda k-najbližih suseda, stabla odluke, SVM, spam filter, sthohaističke šume, ANN.\n"
      ],
      "metadata": {
        "id": "gHIU85tIhJKG"
      }
    },
    {
      "cell_type": "markdown",
      "source": [
        "# **Klasifikacija fotografija**\n",
        "Klasifikacija fotografija predstavlja jedan od onovnih koncepata u polju kompjuterske vizije(engl. *Computer Vision*). Zadatak klasifikacije fotografija je dodeljivanje jedne ili više oznaka fotografijama.\n",
        "Fotografija predstavlja dvodimenzionalni signal. Predstavljena je matematičkom funkcijom gde je x koordinata na horizontalnoj osi, a y koordinata na vertikalnoj osi. U bilo kom trenutku vrednost funkcije f(x,y) predstavlja piksel vrednost fotografija. Operacije koje se koriste za manipulaciju i ekstrakciju informacija iz fotografija predstavljaju procesiranje ili pripremu fotografija.<br>\n",
        "U klasifikaciji fotografija poznati pikseli su grupisani i dodeljene su im oznake klasa.Ovo predstavlja trening proces. Nakon toga klasifikator koristi \"istrenirane piksele\" za klasifikaciju ostalih fotografija.\n",
        "<br>\n",
        "Koriste se računari kako bi se fotografija izanalizirala i kako bi se otkrilo pod koju kategoriju se može svrstati. Klasifiakacija objekata iako čini se lak zadatak, mašinama može biti poprilično zahtevan.<br>\n",
        "Osnovni koraci prilikom klasifikacije fotografija su sledeći:\n",
        "\n",
        "1.   Prikupljanje fotografija\n",
        "2.   Pripremanje fotografija\n",
        "3.   Ekstrakcija obeležja\n",
        "4.   Klasifiakcija\n",
        "\n",
        "Klasifikacija fotografija se primenjuje u raznim aspektima života poput medicine, prepoznavanja objekata na satelitskim snimcima, navigaciji vozila, sistemima za video nadzor, biomeriji, upravljanju robotima, automobilskoj industriji i drugim poljima."
      ],
      "metadata": {
        "id": "NsbdPmTahN9l"
      }
    },
    {
      "cell_type": "markdown",
      "source": [
        "# **O datasetu**\n",
        "Dataset koji je predmet ovog projektnog zadatka predstavlja kolekciju fotografija akcionih \"Lego\" figurica fiktivnih likova iz najpopularnih franšiza 21. veka. Folder \"LEGO_Classification\" sadrži podfoldere \"marvel\", \"star-wars\", \"jurrasic-world\" i \"harry-poter\" gde se nalazi ukupno 372 fotografije likova iz istoimenih serijala. Takođe tu su i eksel datoteke \"index\" i \"metadata\". Osim njih imamo i datoteku \"test\" i podfolder \"test\" koji sadrži 79 fotografija koje je potrebno klasifikovati."
      ],
      "metadata": {
        "id": "T2UHRwrMJHF_"
      }
    },
    {
      "cell_type": "markdown",
      "source": [
        "# **Prakticni deo**"
      ],
      "metadata": {
        "id": "XOo12IpHhf84"
      }
    },
    {
      "cell_type": "code",
      "execution_count": null,
      "metadata": {
        "id": "AefernUurzFm"
      },
      "outputs": [],
      "source": []
    },
    {
      "cell_type": "markdown",
      "source": [
        "# **Zaključak**"
      ],
      "metadata": {
        "id": "hml7tcssoJi6"
      }
    },
    {
      "cell_type": "markdown",
      "source": [
        "# **Literatura**\n",
        "Prasantha, S. H. (2023, November). Image Classification Using Machine Learning Approaches. INTERNATIONAL JOURNAL OF CREATIVE RESEARCH THOUGHTS .<br><br>\n",
        "Soofi, A. A., & Awan, A. (2017, August). Classification Techniques in Machine Learning: Applications and Issues. Journal of Basic & Applied Sciences .<br><br>\n",
        "Ponnusamy, R., Kaliyamoorthi, M., & Sathyamoorthy, S. (2020, March). A Review of Image Classification Approaches and Techniques. International Journal of Recent Trends in Engineering & Research .\n",
        "\n"
      ],
      "metadata": {
        "id": "hokDtrGJhckd"
      }
    }
  ]
}